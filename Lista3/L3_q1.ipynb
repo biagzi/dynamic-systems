{
 "cells": [
  {
   "cell_type": "code",
   "execution_count": 1,
   "metadata": {},
   "outputs": [],
   "source": [
    "import random as rd\n",
    "from typing import Tuple\n",
    "from matplotlib import pyplot as plt\n",
    "from mpl_toolkits.mplot3d import Axes3D\n",
    "\n"
   ]
  },
  {
   "cell_type": "markdown",
   "metadata": {},
   "source": [
    "# Q1"
   ]
  },
  {
   "cell_type": "markdown",
   "metadata": {},
   "source": [
    "Com base na seção 9.3 do livro \"CHAOS: An Introduction to Dynamical Systems, Alligood, Sauer and Yorke, Springer, \n",
    "1996\", estudaremos o sistema de equações de Rössler: \n",
    "$$\n",
    "\\Dot{x} = -y -z\n",
    "$$\n",
    "\n",
    "$$\n",
    "\\Dot{y} = x + ay\n",
    "$$\n",
    "\n",
    "$$\n",
    "\\Dot{z} = b + (x-c)z\n",
    "$$\n",
    "\n",
    "a) Primeiro iremos simular numericamente as equações para diferentes parâmetros de $c$, mantendo os valores $a=b=0.1$."
   ]
  },
  {
   "cell_type": "code",
   "execution_count": 22,
   "metadata": {},
   "outputs": [],
   "source": [
    "def ros (x:float,y:float,z:float,c: float) -> Tuple[float,float,float]:\n",
    "    xt = -y -z\n",
    "    yt = x + 0.1*y\n",
    "    zt = 0.1 +(x-c)*z\n",
    "    \n",
    "    return (xt,yt,zt)"
   ]
  },
  {
   "cell_type": "markdown",
   "metadata": {},
   "source": [
    "A partir dessa equação, iremos usar o método de rk4 partindo de condições iniciais para fazer os cálculos numéricos desse sistema de equações:\n"
   ]
  },
  {
   "cell_type": "code",
   "execution_count": 23,
   "metadata": {},
   "outputs": [],
   "source": [
    "def rk4 (x: float, y: float, z: float, c: float, n: int,  dt: float) -> Tuple[float,float,float]:\n",
    "    for i in range (n):\n",
    "        (xa,ya,za) = ros(x,y,z,c)\n",
    "        (xb,yb,zb) = ros(x+dt*0.5*xa,y+dt*0.5*ya,z+dt*0.5*za,c)\n",
    "        (xc,yc,zc) = ros(x+dt*0.5*xb,y+dt*0.5*yb,z+dt*0.5*zb,c)\n",
    "        (xd,yd,zd) = ros(x+dt*xc,y+dt*yc,z+dt*zc,c)\n",
    "        x = x + dt/6*(xa + 2*xb + 2*xc + xd)\n",
    "        y = y + dt/6*(ya + 2*yb + 2*yc + yd)\n",
    "        z = z + dt/6*(za + 2*zb + 2*zc + zd)\n",
    "        yield (x,y,z)\n",
    "\n",
    "#dt = tamanho do passo de integração\n",
    "#n = número de pontos (x,y,z) que são calculados"
   ]
  },
  {
   "cell_type": "code",
   "execution_count": null,
   "metadata": {},
   "outputs": [],
   "source": []
  },
  {
   "cell_type": "code",
   "execution_count": 113,
   "metadata": {},
   "outputs": [],
   "source": [
    "def plot3d (c, n, dt,N,s):\n",
    "    rd.seed(s)\n",
    "    fig = plt.figure ( figsize = (8.5,8.5))\n",
    "    ax = fig.gca ( projection = '3d' )\n",
    "    for i in range(N):\n",
    "        x0 = rd.randint(-10,10) \n",
    "        y0 = rd.randint(-10,10)\n",
    "        z0 = rd.randint(-1,1)\n",
    "        (X,Y,Z) = zip(*rk4(x0,y0,z0,c,n,dt))\n",
    "        ax.plot ( X, Y, Z, linewidth = 0.5)\n",
    "    ax.grid ( True )\n",
    "    ax.set_xlabel ( 'x' )\n",
    "    ax.set_ylabel ( 'y' )\n",
    "    ax.set_zlabel ( 'z' )\n",
    "    ax.set_title ( 'Atrator de Rossler 3D Plot' )\n",
    "    \n",
    "    #plt.savefig ( 'lorenz_ode_3d.png' )\n",
    "    \n",
    "    # Make the line multi-coloured by plotting it in segments of length s which\n",
    "    # change in colour across the whole time series.\n",
    "    #s = 100\n",
    "    #c = np.linspace(0,1,n) #number of time points\n",
    "    #for i in range(0,n-s,s):\n",
    "    #    ax.plot(X[i:i+s+1], Y[i:i+s+1], Z[i:i+s+1], color=(1,c[i],0), alpha=0.5)\n",
    "        \n",
    "        \n",
    "    # Remove all the axis clutter, leaving just the curve.\n",
    "    #ax.set_axis_off()\n",
    "    plt.show ( )\n",
    "    return \n",
    "\n",
    "\n",
    "def plot2d_rand(c,n,dt,N,s):\n",
    "    rd.seed(s)\n",
    "    for i in range(N):\n",
    "        x0 = rd.randint(-10,10) \n",
    "        y0 = rd.randint(-10,10)\n",
    "        z0 = rd.randint(-1,1)\n",
    "        (X,Y,Z) = zip(*rk4(x0,y0,z0,c,n,dt))\n",
    "        plt.plot(X, Y, ',')\n",
    "    plt.xlabel('x')\n",
    "    plt.ylabel('y')\n",
    "    plt.title('Atrator de Rossler')\n",
    "    \n",
    "    #plt.savefig ( 'r0_2d.png' )\n",
    "    \n",
    "    plt.show()\n",
    "    \n",
    "    return\n",
    "\n",
    "def plot2d(x0,y0,z0,c,n,dt,N):\n",
    "    for i in range(N):\n",
    "        (X,Y,Z) = zip(*rk4(x0,y0,z0,c,n,dt))\n",
    "        plt.plot(X[-10000:], Y[-10000:], 'k,')\n",
    "    plt.xlabel('x')\n",
    "    plt.ylabel('y')\n",
    "    plt.title('Atrator de Rossler')\n",
    "    \n",
    "    #plt.savefig ( 'r0_2d.png' )\n",
    "    \n",
    "    plt.show()\n",
    "    \n",
    "    return"
   ]
  },
  {
   "cell_type": "markdown",
   "metadata": {},
   "source": []
  },
  {
   "cell_type": "code",
   "execution_count": null,
   "metadata": {},
   "outputs": [],
   "source": [
    "c=4\n",
    "s=1\n",
    "n = 50000 #number of time points\n",
    "dt = 0.005 #interval between points\n",
    "N = 2 #number of initial points\n",
    "plot2d_rand(c,n,dt,N,s)\n",
    "x0 = 0.1\n",
    "y0 = 7.5\n",
    "z0 = 0.1\n",
    "plot2d(x0,y0,z0,c,50000,dt,1)\n",
    "plot3d(c,n,dt,N,s)"
   ]
  },
  {
   "cell_type": "code",
   "execution_count": null,
   "metadata": {},
   "outputs": [],
   "source": [
    "c=6\n",
    "s=1\n",
    "n = 50000 #number of time points\n",
    "dt = 0.005 #interval between points\n",
    "N = 2 #number of initial points\n",
    "x0 = 0.1\n",
    "y0 = 7.5\n",
    "z0 = 0.1\n",
    "plot2d_rand(c,n,dt,N,s)\n",
    "plot3d(c,n,dt,N,s)\n",
    "plot2d(x0,y0,z0,c,50000,dt,1)"
   ]
  },
  {
   "cell_type": "code",
   "execution_count": null,
   "metadata": {},
   "outputs": [],
   "source": [
    "c=8.5\n",
    "s=1\n",
    "n = 50000 #number of time points\n",
    "dt = 0.005 #interval between points\n",
    "N = 2 #number of initial points\n",
    "x0 = 0.1\n",
    "y0 = 7.5\n",
    "z0 = 0.1\n",
    "plot2d_rand(c,n,dt,N,s)\n",
    "plot3d(c,n,dt,N,s)\n",
    "plot2d(x0,y0,z0,c,45000,dt,1)"
   ]
  },
  {
   "cell_type": "code",
   "execution_count": null,
   "metadata": {},
   "outputs": [],
   "source": [
    "c=8.7\n",
    "s=1\n",
    "n = 50000 #number of time points\n",
    "dt = 0.005 #interval between points\n",
    "N = 2 #number of initial points\n",
    "x0 = 0.1\n",
    "y0 = 7.5\n",
    "z0 = 0.1\n",
    "plot2d_rand(c,n,dt,N,s)\n",
    "plot3d(c,n,dt,N,s)\n",
    "plot2d(x0,y0,z0,c,50000,dt,1)"
   ]
  },
  {
   "cell_type": "code",
   "execution_count": null,
   "metadata": {},
   "outputs": [],
   "source": [
    "c=9\n",
    "s=1\n",
    "n = 50000 #number of time points\n",
    "dt = 0.005 #interval between points\n",
    "N = 2 #number of initial points\n",
    "x0 = 0.1\n",
    "y0 = 7.5\n",
    "z0 = 0.1\n",
    "plot2d_rand(c,n,dt,N,s)\n",
    "plot3d(c,n,dt,N,s)\n",
    "plot2d(x0,y0,z0,c,100000,dt,1)"
   ]
  },
  {
   "cell_type": "code",
   "execution_count": null,
   "metadata": {},
   "outputs": [],
   "source": [
    "c=12\n",
    "s=1\n",
    "n = 50000 #number of time points\n",
    "dt = 0.005 #interval between points\n",
    "N = 2 #number of initial points\n",
    "x0 = 0.1\n",
    "y0 = 7.5\n",
    "z0 = 0.1\n",
    "plot2d_rand(c,n,dt,N,s)\n",
    "plot3d(c,n,dt,N,s)\n",
    "plot2d(x0,y0,z0,c,50000,dt,1)"
   ]
  },
  {
   "cell_type": "code",
   "execution_count": null,
   "metadata": {},
   "outputs": [],
   "source": [
    "c=12.8\n",
    "s=1\n",
    "n = 50000 #number of time points\n",
    "dt = 0.005 #interval between points\n",
    "N = 2 #number of initial points\n",
    "x0 = 0.1\n",
    "y0 = 7.5\n",
    "z0 = 0.1\n",
    "plot2d_rand(c,n,dt,N,s)\n",
    "plot3d(c,n,dt,N,s)\n",
    "plot2d(x0,y0,z0,c,50000,dt,1)"
   ]
  },
  {
   "cell_type": "code",
   "execution_count": null,
   "metadata": {},
   "outputs": [],
   "source": [
    "c=13\n",
    "s=1\n",
    "n = 50000 #number of time points\n",
    "dt = 0.005 #interval between points\n",
    "N = 2 #number of initial points\n",
    "x0 = 0.1\n",
    "y0 = 7.5\n",
    "z0 = 0.1\n",
    "plot2d_rand(c,n,dt,N,s)\n",
    "plot3d(c,n,dt,N,s)\n",
    "plot2d(x0,y0,z0,c,100000,dt,1)"
   ]
  },
  {
   "cell_type": "code",
   "execution_count": 210,
   "metadata": {},
   "outputs": [
    {
     "data": {
      "image/png": "[encoded data removed]",
      "text/plain": [
       "<Figure size 432x288 with 1 Axes>"
      ]
     },
     "metadata": {
      "needs_background": "light"
     },
     "output_type": "display_data"
    }
   ],
   "source": [
    "c=43\n",
    "s=1\n",
    "n = 50000 #number of time points\n",
    "dt = 0.005 #interval between points\n",
    "N = 2 #number of initial points\n",
    "x0 = -10\n",
    "y0 = -10\n",
    "z0 = 1\n",
    "plot2d(x0,y0,z0,c,15000,dt,1)"
   ]
  },
  {
   "cell_type": "markdown",
   "metadata": {},
   "source": []
  },
  {
   "cell_type": "markdown",
   "metadata": {},
   "source": [
    "# 1b"
   ]
  },
  {
   "cell_type": "code",
   "execution_count": 3,
   "metadata": {},
   "outputs": [],
   "source": [
    "def rk4_x (x: float, y: float, z: float, c: float, n: int,  dt: float):\n",
    "    for i in range (n):\n",
    "        (xa,ya,za) = ros(x,y,z,c)\n",
    "        (xb,yb,zb) = ros(x+dt*0.5*xa,y+dt*0.5*ya,z+dt*0.5*za,c)\n",
    "        (xc,yc,zc) = ros(x+dt*0.5*xb,y+dt*0.5*yb,z+dt*0.5*zb,c)\n",
    "        (xd,yd,zd) = ros(x+dt*xc,y+dt*yc,z+dt*zc,c)\n",
    "        x = x + dt/6*(xa + 2*xb + 2*xc + xd)\n",
    "        y = y + dt/6*(ya + 2*yb + 2*yc + yd)\n",
    "        z = z + dt/6*(za + 2*zb + 2*zc + zd)\n",
    "        yield x"
   ]
  },
  {
   "cell_type": "code",
   "execution_count": 232,
   "metadata": {},
   "outputs": [],
   "source": [
    "def maiores_pontos (x0,y0,z0,c,n,dt,nint):\n",
    "#Calcula os n pontos\n",
    "    X = list(rk4_x(x0,y0,z0,c,n,dt)) \n",
    "#Seleciona só os últimos nint pontos (para descartar região transiente)\n",
    "    X = X[-nint:] \n",
    "    x_points =[]\n",
    "#Compara para cada ponto do vetor os pontos vizinhos para saber se é um máximo local\n",
    "    for i in range(0,nint-1): \n",
    "        if(X[i]>X[i-1] and X[i]>X[i+1]):\n",
    "            #se for, salva no vetor x_points\n",
    "            x_points.append(X[i]) \n",
    "#Elimina pontos repetidos no caso de órbitas periódicas com períodos visíveis\n",
    "    for i in range(len(x_points)-1):\n",
    "        if (abs(x_points[0]-x_points[i+1])<0.04):\n",
    "            x_points = x_points[:i+1]\n",
    "            return x_points\n",
    "    for i in range(len(x_points)-2):\n",
    "        if (abs(x_points[1]-x_points[i+2])<0.04):\n",
    "            x_points = x_points[:i+2]\n",
    "            return x_points\n",
    "#Reduz o tamanho do número de pontos que será plotado nos casos periódicos para 30 pontos \n",
    "    x_points = x_points[:20]\n",
    "    return x_points"
   ]
  },
  {
   "cell_type": "code",
   "execution_count": 217,
   "metadata": {},
   "outputs": [
    {
     "name": "stdout",
     "output_type": "stream",
     "text": [
      "[52.31333642298849, 41.57688838885243, 55.0197516330176, 32.55481882334175, 44.5340132366796, 57.176836361122426, 28.245297856534105, 38.66656357065536, 52.19847976080411, 42.01609047418167, 55.394719282264134, 31.581878487113237, 43.216035974943395, 56.335141143992, 29.525941482379583, 40.415544856878434]\n"
     ]
    }
   ],
   "source": [
    "c=43\n",
    "dt = 0.01 #interval between points\n",
    "x = maiores_pontos(x0,y0,z0,40,30000,dt,10000)\n",
    "print(x)"
   ]
  },
  {
   "cell_type": "code",
   "execution_count": null,
   "metadata": {},
   "outputs": [],
   "source": []
  },
  {
   "cell_type": "code",
   "execution_count": 233,
   "metadata": {},
   "outputs": [
    {
     "name": "stdout",
     "output_type": "stream",
     "text": [
      "CPU times: user 0 ns, sys: 4 µs, total: 4 µs\n",
      "Wall time: 5.72 µs\n"
     ]
    }
   ],
   "source": [
    "dt = 0.05 #interval between points\n",
    "x_plot=[]\n",
    "C=[]\n",
    "n = 20000\n",
    "nint = 10000\n",
    "for i in range(900):\n",
    "    x0 = rd.randint(-10,10) \n",
    "    y0 = rd.randint(-10,10)\n",
    "    z0 = rd.randint(-1,1)\n",
    "    c = 1 + i*0.05\n",
    "    if (c>28.5):\n",
    "        dt = 0.005 \n",
    "        nint = 10000\n",
    "        n = 25000\n",
    "    xm = [*maiores_pontos(x0,y0,z0,c,n,dt,nint)]\n",
    "    x_plot.extend(xm)\n",
    "    for i in range(0,len(xm)):\n",
    "        C.append(c)\n",
    "\n",
    "%time"
   ]
  },
  {
   "cell_type": "code",
   "execution_count": 230,
   "metadata": {},
   "outputs": [],
   "source": [
    "#Parâmetros e simulação para 1<c<28.5\n",
    "dt = 0.05\n",
    "x_plot=[]\n",
    "C=[]\n",
    "n = 100000\n",
    "nint = 6000\n",
    "for i in range(550):\n",
    "    x0 = rd.randint(-10,10) \n",
    "    y0 = rd.randint(-10,10)\n",
    "    z0 = rd.randint(-1,1)\n",
    "    c = 1 + i*0.05\n",
    "    xm = [*maiores_pontos(x0,y0,z0,c,n,dt,nint)]\n",
    "    x_plot.extend(xm)\n",
    "    for i in range(0,len(xm)):\n",
    "        C.append(c)\n",
    "\n",
    "        \n",
    "#Parâmetros e simulação para 28.5<c<46\n",
    "dt = 0.01\n",
    "nint = 12000\n",
    "n = 100000\n",
    "for i in range(875):\n",
    "    x0 = rd.randint(-10,10) \n",
    "    y0 = rd.randint(-10,10)\n",
    "    z0 = rd.randint(-1,1)\n",
    "    c = 28.5 + i*0.02 \n",
    "    xm = [*maiores_pontos(x0,y0,z0,c,n,dt,nint)]\n",
    "    x_plot.extend(xm)\n",
    "    for i in range(0,len(xm)):\n",
    "        C.append(c)"
   ]
  },
  {
   "cell_type": "code",
   "execution_count": 235,
   "metadata": {},
   "outputs": [
    {
     "data": {
      "text/plain": [
       "Text(0.5, 1.0, 'Diagrama de Bifurcação para as Equações de Rossler')"
      ]
     },
     "execution_count": 235,
     "metadata": {},
     "output_type": "execute_result"
    },
    {
     "data": {
      "image/png": "[encoded data removed]",
      "text/plain": [
       "<Figure size 432x288 with 1 Axes>"
      ]
     },
     "metadata": {
      "needs_background": "light"
     },
     "output_type": "display_data"
    }
   ],
   "source": [
    "plt.xlim(1,46)\n",
    "plt.ylim(0,70)\n",
    "plt.xlabel('c')\n",
    "plt.ylabel('x')\n",
    "plt.plot(C, x_plot, 'k,') \n",
    "plt.title('Diagrama de Bifurcação para as Equações de Rossler')"
   ]
  },
  {
   "cell_type": "code",
   "execution_count": null,
   "metadata": {},
   "outputs": [],
   "source": []
  },
  {
   "cell_type": "code",
   "execution_count": null,
   "metadata": {},
   "outputs": [],
   "source": []
  },
  {
   "cell_type": "code",
   "execution_count": null,
   "metadata": {},
   "outputs": [],
   "source": []
  },
  {
   "cell_type": "code",
   "execution_count": null,
   "metadata": {},
   "outputs": [],
   "source": []
  },
  {
   "cell_type": "code",
   "execution_count": null,
   "metadata": {},
   "outputs": [],
   "source": []
  },
  {
   "cell_type": "code",
   "execution_count": null,
   "metadata": {},
   "outputs": [],
   "source": []
  },
  {
   "cell_type": "code",
   "execution_count": null,
   "metadata": {},
   "outputs": [],
   "source": []
  },
  {
   "cell_type": "code",
   "execution_count": null,
   "metadata": {},
   "outputs": [],
   "source": []
  },
  {
   "cell_type": "code",
   "execution_count": null,
   "metadata": {},
   "outputs": [],
   "source": []
  },
  {
   "cell_type": "code",
   "execution_count": null,
   "metadata": {},
   "outputs": [],
   "source": []
  },
  {
   "cell_type": "markdown",
   "metadata": {},
   "source": []
  },
  {
   "cell_type": "code",
   "execution_count": null,
   "metadata": {},
   "outputs": [],
   "source": []
  },
  {
   "cell_type": "code",
   "execution_count": null,
   "metadata": {},
   "outputs": [],
   "source": []
  },
  {
   "cell_type": "code",
   "execution_count": null,
   "metadata": {},
   "outputs": [],
   "source": []
  },
  {
   "cell_type": "code",
   "execution_count": null,
   "metadata": {},
   "outputs": [],
   "source": []
  }
 ],
 "metadata": {
  "kernelspec": {
   "display_name": "Python 3",
   "language": "python",
   "name": "python3"
  },
  "language_info": {
   "codemirror_mode": {
    "name": "ipython",
    "version": 3
   },
   "file_extension": ".py",
   "mimetype": "text/x-python",
   "name": "python",
   "nbconvert_exporter": "python",
   "pygments_lexer": "ipython3",
   "version": "3.7.4"
  }
 },
 "nbformat": 4,
 "nbformat_minor": 2
}
